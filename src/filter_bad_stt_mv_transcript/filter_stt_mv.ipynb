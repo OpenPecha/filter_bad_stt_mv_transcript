{
 "cells": [
  {
   "cell_type": "code",
   "execution_count": 9,
   "metadata": {},
   "outputs": [],
   "source": [
    "import pandas as pd\n",
    "from botok import WordTokenizer"
   ]
  },
  {
   "cell_type": "code",
   "execution_count": 10,
   "metadata": {},
   "outputs": [],
   "source": [
    "\n",
    "def initialize_tokenizer():\n",
    "    return WordTokenizer()"
   ]
  },
  {
   "cell_type": "code",
   "execution_count": 11,
   "metadata": {},
   "outputs": [],
   "source": [
    "def read_tsv_file(file_path):\n",
    "    return pd.read_csv(file_path, sep='\\t', encoding='utf-8')"
   ]
  },
  {
   "cell_type": "code",
   "execution_count": 12,
   "metadata": {},
   "outputs": [],
   "source": [
    "def process_transcript(text, tokenizer):\n",
    "    tokens = tokenizer.tokenize(text)\n",
    "    non_word_count = sum(1 for token in tokens if token.pos == 'NON_WORD' and not token.skrt)\n",
    "    total_tokens = len(tokens)\n",
    "    return non_word_count, total_tokens"
   ]
  },
  {
   "cell_type": "code",
   "execution_count": 13,
   "metadata": {},
   "outputs": [],
   "source": [
    "def add_columns_to_df(df, tokenizer):\n",
    "    df['non_word_count'], df['total_tokens'] = zip(*df['uni'].apply(lambda text: process_transcript(text, tokenizer)))\n",
    "    df['non_word_percentage'] = (df['non_word_count'] / df['total_tokens']) * 100\n",
    "    df.fillna(0, inplace=True)  # Replace NaN values with 0 in case of division by zero\n",
    "    return df\n"
   ]
  },
  {
   "cell_type": "code",
   "execution_count": 14,
   "metadata": {},
   "outputs": [],
   "source": [
    "\n",
    "def save_df_to_tsv(df, file_path):\n",
    "    df.to_csv(file_path, sep='\\t', index=False, encoding='utf-8')\n"
   ]
  },
  {
   "cell_type": "code",
   "execution_count": 16,
   "metadata": {},
   "outputs": [
    {
     "name": "stdout",
     "output_type": "stream",
     "text": [
      "Loading Trie... (1s.)\n",
      "                                file_name  \\\n",
      "0  STT_MV0090_0159_1097722_to_1105009.wav   \n",
      "1  STT_MV0230_0214_1355003_to_1357646.wav   \n",
      "2    STT_MV0320_0069_558399_to_562888.wav   \n",
      "3    STT_MV0029_0105_977753_to_985770.wav   \n",
      "4  STT_MV0012_0213_1904651_to_1913374.wav   \n",
      "\n",
      "                                                 uni  \\\n",
      "0  འུ་ཙི། འདིའི་ཁོར་ཡུག་དེ་འདྲས་ཡག་ག་ལ། རང་གིས་ག་...   \n",
      "1                            ད་ཁྱེད་རང་ཤོང་ས་མ་རེད།    \n",
      "2  ད་གེ། ད་གེ་ཡོད། རོགས་པ་མདུན་ལ་ཏོག་ཙི། སྐད་ཆ་རི...   \n",
      "3  ཁྱེད་རང་གིས་ཆེད་མངགས་མི་བཏང་བྱས་ང་ཁྱེད་རང་ནང་ལ...   \n",
      "4                               རྒན་ལགས། ཡ་རྒན་ལགས།    \n",
      "\n",
      "                                               wylie  \\\n",
      "0  'u tsi/_'di'i khor yug de 'dras yag ga la/_ran...   \n",
      "1                    da khyed rang shong sa ma red/_   \n",
      "2  da ge/_da ge yod/_rogs pa mdun la tog tsi/_ska...   \n",
      "3  khyed rang gis ched mngags mi btang byas nga k...   \n",
      "4                          rgan lags/_ya rgan lags/_   \n",
      "\n",
      "                                                 url    dept  \n",
      "0  https://d38pmlk0v88drf.cloudfront.net/mv_wav/S...  STT_MV  \n",
      "1  https://d38pmlk0v88drf.cloudfront.net/mv_wav/S...  STT_MV  \n",
      "2  https://d38pmlk0v88drf.cloudfront.net/mv_wav/S...  STT_MV  \n",
      "3  https://d38pmlk0v88drf.cloudfront.net/mv_wav/S...  STT_MV  \n",
      "4  https://d38pmlk0v88drf.cloudfront.net/mv_wav/S...  STT_MV  \n"
     ]
    },
    {
     "name": "stderr",
     "output_type": "stream",
     "text": [
      "/home/gangagyatso/Desktop/project13/filter_bad_stt_mv_transcript/.venv/lib/python3.10/site-packages/botok/textunits/bostring.py:82: UserWarning: Beware of unexpected results: input string contains the non-expanded char \"བྷ\", found in \"བྷོ་ཆན། རང་\".\n",
      "  warn(\n",
      "/home/gangagyatso/Desktop/project13/filter_bad_stt_mv_transcript/.venv/lib/python3.10/site-packages/botok/textunits/bostring.py:82: UserWarning: Beware of unexpected results: input string contains the non-expanded char \"ཱུ\", found in \"\".\n",
      "  warn(\n",
      "/home/gangagyatso/Desktop/project13/filter_bad_stt_mv_transcript/.venv/lib/python3.10/site-packages/botok/textunits/bostring.py:82: UserWarning: Beware of unexpected results: input string contains the non-expanded char \"བྷ\", found in \"\".\n",
      "  warn(\n"
     ]
    },
    {
     "name": "stdout",
     "output_type": "stream",
     "text": [
      "                                file_name  \\\n",
      "0  STT_MV0090_0159_1097722_to_1105009.wav   \n",
      "1  STT_MV0230_0214_1355003_to_1357646.wav   \n",
      "2    STT_MV0320_0069_558399_to_562888.wav   \n",
      "3    STT_MV0029_0105_977753_to_985770.wav   \n",
      "4  STT_MV0012_0213_1904651_to_1913374.wav   \n",
      "\n",
      "                                                 uni  \\\n",
      "0  འུ་ཙི། འདིའི་ཁོར་ཡུག་དེ་འདྲས་ཡག་ག་ལ། རང་གིས་ག་...   \n",
      "1                            ད་ཁྱེད་རང་ཤོང་ས་མ་རེད།    \n",
      "2  ད་གེ། ད་གེ་ཡོད། རོགས་པ་མདུན་ལ་ཏོག་ཙི། སྐད་ཆ་རི...   \n",
      "3  ཁྱེད་རང་གིས་ཆེད་མངགས་མི་བཏང་བྱས་ང་ཁྱེད་རང་ནང་ལ...   \n",
      "4                               རྒན་ལགས། ཡ་རྒན་ལགས།    \n",
      "\n",
      "                                               wylie  \\\n",
      "0  'u tsi/_'di'i khor yug de 'dras yag ga la/_ran...   \n",
      "1                    da khyed rang shong sa ma red/_   \n",
      "2  da ge/_da ge yod/_rogs pa mdun la tog tsi/_ska...   \n",
      "3  khyed rang gis ched mngags mi btang byas nga k...   \n",
      "4                          rgan lags/_ya rgan lags/_   \n",
      "\n",
      "                                                 url    dept  non_word_count  \\\n",
      "0  https://d38pmlk0v88drf.cloudfront.net/mv_wav/S...  STT_MV               0   \n",
      "1  https://d38pmlk0v88drf.cloudfront.net/mv_wav/S...  STT_MV               0   \n",
      "2  https://d38pmlk0v88drf.cloudfront.net/mv_wav/S...  STT_MV               0   \n",
      "3  https://d38pmlk0v88drf.cloudfront.net/mv_wav/S...  STT_MV               0   \n",
      "4  https://d38pmlk0v88drf.cloudfront.net/mv_wav/S...  STT_MV               0   \n",
      "\n",
      "   total_tokens  non_word_percentage  \n",
      "0            26                  0.0  \n",
      "1             8                  0.0  \n",
      "2            22                  0.0  \n",
      "3            32                  0.0  \n",
      "4             7                  0.0  \n"
     ]
    }
   ],
   "source": [
    "if __name__ == '__main__':\n",
    "    input_file = '../../data/test_input.tsv'\n",
    "    output_file = '../../data/test_output.tsv'\n",
    "\n",
    "    tokenizer = initialize_tokenizer()\n",
    "    df = read_tsv_file(input_file)\n",
    "    print(df.head())\n",
    "    df_proccessed = add_columns_to_df(df, tokenizer)\n",
    "    print(df_proccessed.head())\n",
    "    save_df_to_tsv(df_proccessed, output_file)                                                                         "
   ]
  },
  {
   "cell_type": "code",
   "execution_count": null,
   "metadata": {},
   "outputs": [],
   "source": []
  }
 ],
 "metadata": {
  "kernelspec": {
   "display_name": ".venv",
   "language": "python",
   "name": "python3"
  },
  "language_info": {
   "codemirror_mode": {
    "name": "ipython",
    "version": 3
   },
   "file_extension": ".py",
   "mimetype": "text/x-python",
   "name": "python",
   "nbconvert_exporter": "python",
   "pygments_lexer": "ipython3",
   "version": "3.10.12"
  }
 },
 "nbformat": 4,
 "nbformat_minor": 2
}
